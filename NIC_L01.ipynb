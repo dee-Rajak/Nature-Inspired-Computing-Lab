{
  "nbformat": 4,
  "nbformat_minor": 0,
  "metadata": {
    "colab": {
      "provenance": []
    },
    "kernelspec": {
      "name": "python3",
      "display_name": "Python 3"
    },
    "language_info": {
      "name": "python"
    }
  },
  "cells": [
    {
      "cell_type": "code",
      "execution_count": null,
      "metadata": {
        "id": "wZ2k_C81ArlO"
      },
      "outputs": [],
      "source": [
        "import random"
      ]
    },
    {
      "cell_type": "code",
      "source": [
        "def random_chromosome(size): #making random chromosomes\n",
        "    return [ random.randint(1, size) for _ in range(size) ]"
      ],
      "metadata": {
        "id": "heHbhSHlDM9X"
      },
      "execution_count": null,
      "outputs": []
    },
    {
      "cell_type": "code",
      "source": [
        "def fitness(chromosome):\n",
        "    horizontal_collisions = sum([chromosome.count(queen)-1 for queen in chromosome])/2\n",
        "    diagonal_collisions = 0\n",
        "\n",
        "    n = len(chromosome)\n",
        "    left_diagonal = [0] * (2*n)\n",
        "    right_diagonal = [0] * (2*n)\n",
        "    for i in range(n):\n",
        "        left_diagonal[i + chromosome[i] - 1] += 1\n",
        "        right_diagonal[len(chromosome) - i + chromosome[i] - 2] += 1\n",
        "\n",
        "    diagonal_collisions = 0\n",
        "    for i in range(2*n-1):\n",
        "        counter = 0\n",
        "        if left_diagonal[i] > 1:\n",
        "            counter += left_diagonal[i]-1\n",
        "        if right_diagonal[i] > 1:\n",
        "            counter += right_diagonal[i]-1\n",
        "        diagonal_collisions += counter / (n-abs(i-n+1))\n",
        "\n",
        "    return int(max_fitness - (horizontal_collisions + diagonal_collisions)) #28-(2+3)=23"
      ],
      "metadata": {
        "id": "Dm6Myi57DNJv"
      },
      "execution_count": null,
      "outputs": []
    },
    {
      "cell_type": "code",
      "source": [
        "def probability(chromosome, fitness):\n",
        "    return fitness(chromosome) / max_fitness"
      ],
      "metadata": {
        "id": "vSEBov4MDNU3"
      },
      "execution_count": null,
      "outputs": []
    },
    {
      "cell_type": "code",
      "source": [
        "def random_pick(population, probabilities):\n",
        "    population_with_probability = zip(population, probabilities)\n",
        "    total = sum(w for c, w in population_with_probability)\n",
        "    r = random.uniform(0, total)\n",
        "    upto = 0\n",
        "    for c, w in zip(population, probabilities):\n",
        "        if upto + w >= r:\n",
        "            return c\n",
        "        upto += w\n",
        "    assert False, \"Shouldn't get here\""
      ],
      "metadata": {
        "id": "zpqVZTAgDUkn"
      },
      "execution_count": null,
      "outputs": []
    },
    {
      "cell_type": "code",
      "source": [
        "def reproduce(x, y):\n",
        "    n = len(x)\n",
        "    c = random.randint(0, n - 1)\n",
        "    return x[:c] + y[c:], y[:c] + x[c:]"
      ],
      "metadata": {
        "id": "77POvd_iDVWX"
      },
      "execution_count": null,
      "outputs": []
    },
    {
      "cell_type": "code",
      "source": [
        "def mutate(x):  #randomly changing the value of a random index of a chromosome\n",
        "    global conversion_count\n",
        "    n = len(x)\n",
        "    c = random.randint(0, n - 1)\n",
        "    m = random.randint(1, n)\n",
        "    x[c] = m\n",
        "    conversion_count += 1\n",
        "    return x"
      ],
      "metadata": {
        "id": "bdThZNv6DVZA"
      },
      "execution_count": null,
      "outputs": []
    },
    {
      "cell_type": "code",
      "source": [
        "def genetic_queen(population, fitness):\n",
        "    global iteration_count\n",
        "    mutation_probability = 0.03\n",
        "    new_population = []\n",
        "    probabilities = [probability(n, fitness) for n in population]\n",
        "    for i in range(len(population)):\n",
        "        x = random_pick(population, probabilities)\n",
        "        y = random_pick(population, probabilities)\n",
        "        child_x, child_y = reproduce(x, y)\n",
        "        if random.random() < mutation_probability:\n",
        "            child_x = mutate(child_x)\n",
        "            child_y = mutate(child_y)\n",
        "        new_population.append(child_x)\n",
        "        if fitness(child_x) == max_fitness:\n",
        "            break\n",
        "        new_population.append(child_y)\n",
        "        if fitness(child_y) == max_fitness:\n",
        "            break\n",
        "    iteration_count += 1\n",
        "    return new_population"
      ],
      "metadata": {
        "id": "WISKdsJNDaGX"
      },
      "execution_count": null,
      "outputs": []
    },
    {
      "cell_type": "code",
      "source": [
        "def print_chromosome(chrom):\n",
        "    print(\"Chromosome = {},  Fitness = {}\"\n",
        "        .format(str(chrom), fitness(chrom)))"
      ],
      "metadata": {
        "id": "aSocNqIRDaKA"
      },
      "execution_count": null,
      "outputs": []
    },
    {
      "cell_type": "code",
      "source": [
        "if __name__ == \"__main__\":\n",
        "    nq = int(input(\"Enter Number of Queens: \")) #say N = 8\n",
        "    max_fitness = (nq*(nq-1))/2  # 8*7/2 = 28\n",
        "    population = [random_chromosome(nq) for _ in range(100)]\n",
        "    iteration_count = 0\n",
        "    conversion_count = 0\n",
        "    generation = 1\n",
        "\n",
        "    while not max_fitness in [fitness(chrom) for chrom in population]:\n",
        "        print(\"=== Generation {} ===\".format(generation))\n",
        "        population = genetic_queen(population, fitness)\n",
        "        print(\"\")\n",
        "        print(\"Maximum Fitness = {}\".format(max([fitness(n) for n in population])))\n",
        "        generation += 1\n",
        "        iteration_count += 1\n",
        "\n",
        "    chrom_out = []\n",
        "    print(\"Solved in Generation {}!\".format(generation-1))\n",
        "    for chrom in population:\n",
        "        if fitness(chrom) == max_fitness:\n",
        "            print(\"\")\n",
        "            print(\"One of the solutions: \")\n",
        "            chrom_out = chrom\n",
        "            print_chromosome(chrom)\n",
        "\n",
        "    board = []\n",
        "\n",
        "    for x in range(nq):\n",
        "        board.append([\"x\"] * nq)\n",
        "\n",
        "    for i in range(nq):\n",
        "        board[nq-chrom_out[i]][i]=\"Q\"\n",
        "\n",
        "\n",
        "    def print_board(board):\n",
        "        for row in board:\n",
        "            print (\" \".join(row))\n",
        "\n",
        "    print()\n",
        "    print_board(board)\n",
        "    print(\"Number of iterations:\", iteration_count)\n",
        "    print(\"Number of conversions:\", conversion_count)"
      ],
      "metadata": {
        "colab": {
          "base_uri": "https://localhost:8080/"
        },
        "id": "ZQn9i5E-B18m",
        "outputId": "70191c29-cc27-42b3-928c-871af20b2ad6"
      },
      "execution_count": null,
      "outputs": [
        {
          "output_type": "stream",
          "name": "stdout",
          "text": [
            "Enter Number of Queens: 7\n",
            "=== Generation 1 ===\n",
            "\n",
            "Maximum Fitness = 20\n",
            "=== Generation 2 ===\n",
            "\n",
            "Maximum Fitness = 20\n",
            "=== Generation 3 ===\n",
            "\n",
            "Maximum Fitness = 20\n",
            "=== Generation 4 ===\n",
            "\n",
            "Maximum Fitness = 20\n",
            "=== Generation 5 ===\n",
            "\n",
            "Maximum Fitness = 20\n",
            "=== Generation 6 ===\n",
            "\n",
            "Maximum Fitness = 20\n",
            "=== Generation 7 ===\n",
            "\n",
            "Maximum Fitness = 20\n",
            "=== Generation 8 ===\n",
            "\n",
            "Maximum Fitness = 21\n",
            "Solved in Generation 8!\n",
            "\n",
            "One of the solutions: \n",
            "Chromosome = [2, 5, 1, 4, 7, 3, 6],  Fitness = 21\n",
            "\n",
            "x x x x Q x x\n",
            "x x x x x x Q\n",
            "x Q x x x x x\n",
            "x x x Q x x x\n",
            "x x x x x Q x\n",
            "Q x x x x x x\n",
            "x x Q x x x x\n",
            "Number of iterations: 16\n",
            "Number of conversions: 1210\n"
          ]
        }
      ]
    }
  ]
}