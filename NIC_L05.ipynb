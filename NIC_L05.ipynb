{
  "nbformat": 4,
  "nbformat_minor": 0,
  "metadata": {
    "colab": {
      "provenance": []
    },
    "kernelspec": {
      "name": "python3",
      "display_name": "Python 3"
    },
    "language_info": {
      "name": "python"
    }
  },
  "cells": [
    {
      "cell_type": "code",
      "execution_count": null,
      "metadata": {
        "id": "_RYGRYombXCf"
      },
      "outputs": [],
      "source": [
        "import numpy as np\n",
        "import random\n",
        "\n",
        "class AntColonyOptimization:\n",
        "    def __init__(self, distances, num_ants, num_iterations, alpha, beta, evaporation_rate, Q):\n",
        "        self.distances = distances\n",
        "        self.num_ants = num_ants\n",
        "        self.num_iterations = num_iterations\n",
        "        self.alpha = alpha\n",
        "        self.beta = beta\n",
        "        self.evaporation_rate = evaporation_rate\n",
        "        self.Q = Q\n",
        "        self.num_cities = len(distances)\n",
        "        self.pheromones = np.ones((self.num_cities, self.num_cities))\n",
        "        self.best_path = None\n",
        "        self.best_distance = float('inf')\n",
        "\n",
        "    def run(self):\n",
        "        for _ in range(self.num_iterations):\n",
        "            paths = self.construct_paths()\n",
        "            self.update_pheromones(paths)\n",
        "            self.update_best_path(paths)\n",
        "\n",
        "    def construct_paths(self):\n",
        "        paths = []\n",
        "        for _ in range(self.num_ants):\n",
        "            visited = [False] * self.num_cities\n",
        "            current_city = random.randint(0, self.num_cities - 1)\n",
        "            visited[current_city] = True\n",
        "            path = [current_city]\n",
        "\n",
        "            for _ in range(self.num_cities - 1):\n",
        "                next_city = self.select_next_city(current_city, visited)\n",
        "                path.append(next_city)\n",
        "                visited[next_city] = True\n",
        "                current_city = next_city\n",
        "\n",
        "            path.append(path[0])\n",
        "            paths.append(path)\n",
        "\n",
        "        return paths\n",
        "\n",
        "    def select_next_city(self, current_city, visited):\n",
        "      pheromone = self.pheromones[current_city]\n",
        "      distance = 1.0 / (self.distances[current_city] + 1e-8)  # Add a small constant\n",
        "      probabilities = (pheromone ** self.alpha) * (distance ** self.beta)\n",
        "      probabilities[visited] = 0\n",
        "      probabilities /= probabilities.sum()\n",
        "      next_city = np.random.choice(range(self.num_cities), p=probabilities)\n",
        "      return next_city\n",
        "\n",
        "    def update_pheromones(self, paths):\n",
        "        self.pheromones *= (1 - self.evaporation_rate)\n",
        "        for path in paths:\n",
        "            distance = self.calculate_distance(path)\n",
        "            for i in range(self.num_cities):\n",
        "                j = (i + 1) % self.num_cities\n",
        "                self.pheromones[path[i], path[j]] += self.Q / distance\n",
        "\n",
        "    def update_best_path(self, paths):\n",
        "        for path in paths:\n",
        "            distance = self.calculate_distance(path)\n",
        "            if distance < self.best_distance:\n",
        "                self.best_path = path\n",
        "                self.best_distance = distance\n",
        "\n",
        "    def calculate_distance(self, path):\n",
        "        distance = 0\n",
        "        for i in range(self.num_cities):\n",
        "            j = (i + 1) % self.num_cities\n",
        "            distance += self.distances[path[i], path[j]]\n",
        "        return distance"
      ]
    },
    {
      "cell_type": "code",
      "source": [
        "# Example usage\n",
        "# distances = np.array([\n",
        "#     [0, 2, 9, 10],\n",
        "#     [1, 0, 6, 4],\n",
        "#     [15, 7, 0, 8],\n",
        "#     [6, 3, 12, 0]\n",
        "# ])\n",
        "distances = np.array([\n",
        "    [0, 10, 15, 20, 5],\n",
        "    [10, 0, 35, 25, 15],\n",
        "    [15, 35, 0, 30, 20],\n",
        "    [20, 25, 30, 0, 10],\n",
        "    [5, 15, 20, 10, 0]\n",
        "])"
      ],
      "metadata": {
        "id": "_fwm-cMUc_Pz"
      },
      "execution_count": null,
      "outputs": []
    },
    {
      "cell_type": "code",
      "source": [
        "aco = AntColonyOptimization(distances, num_ants=10, num_iterations=100, alpha=1, beta=2, evaporation_rate=0.5, Q=100)\n",
        "aco.run()"
      ],
      "metadata": {
        "id": "8HFSZy0EdCOP"
      },
      "execution_count": null,
      "outputs": []
    },
    {
      "cell_type": "code",
      "source": [
        "print(\"Best path:\", aco.best_path)\n",
        "print(\"Best distance:\", aco.best_distance)"
      ],
      "metadata": {
        "colab": {
          "base_uri": "https://localhost:8080/"
        },
        "id": "nenQvgxodEgg",
        "outputId": "5c9c157f-d7d1-4652-965b-2df391d4c962"
      },
      "execution_count": null,
      "outputs": [
        {
          "output_type": "stream",
          "name": "stdout",
          "text": [
            "Best path: [4, 2, 0, 1, 3, 4]\n",
            "Best distance: 80\n"
          ]
        }
      ]
    }
  ]
}