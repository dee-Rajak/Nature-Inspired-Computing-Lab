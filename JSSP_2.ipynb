{
  "nbformat": 4,
  "nbformat_minor": 0,
  "metadata": {
    "colab": {
      "provenance": []
    },
    "kernelspec": {
      "name": "python3",
      "display_name": "Python 3"
    },
    "language_info": {
      "name": "python"
    }
  },
  "cells": [
    {
      "cell_type": "code",
      "execution_count": null,
      "metadata": {
        "id": "swtvBZ15QBB7"
      },
      "outputs": [],
      "source": [
        "import numpy as np\n",
        "import random"
      ]
    },
    {
      "cell_type": "code",
      "source": [
        "class AntColonyOptimization:\n",
        "    def __init__(self, jobs, machines, processing_times, num_ants, num_iterations, alpha, beta, evaporation_rate, Q):\n",
        "        self.jobs = jobs\n",
        "        self.machines = machines\n",
        "        self.processing_times = processing_times\n",
        "        self.num_ants = num_ants\n",
        "        self.num_iterations = num_iterations\n",
        "        self.alpha = alpha\n",
        "        self.beta = beta\n",
        "        self.evaporation_rate = evaporation_rate\n",
        "        self.Q = Q\n",
        "        self.pheromone = np.ones((len(jobs), len(machines)))\n",
        "        self.best_makespan = float('inf')\n",
        "        self.best_solution = None\n",
        "\n",
        "    def run(self):\n",
        "        for iteration in range(self.num_iterations):\n",
        "            solutions = []\n",
        "            for ant in range(self.num_ants):\n",
        "                solution = self.construct_solution()\n",
        "                solutions.append(solution)\n",
        "                self.update_pheromone(solution)\n",
        "            self.global_update_pheromone(solutions)\n",
        "            self.update_best_solution(solutions)\n",
        "\n",
        "    def construct_solution(self):\n",
        "      solution = []\n",
        "      for job in self.jobs:\n",
        "          job_sequence = self.processing_times[job]\n",
        "          for machine, _ in job_sequence:\n",
        "              solution.append((job, machine))\n",
        "      return solution\n",
        "\n",
        "    def select_machine(self, job, remaining_machines):\n",
        "      job_sequence = self.processing_times[job]\n",
        "      machine_index = next((i for i, (m, _) in enumerate(job_sequence) if m in remaining_machines), None)\n",
        "      if machine_index is not None:\n",
        "          return job_sequence[machine_index][0]\n",
        "      else:\n",
        "          return None\n",
        "\n",
        "    def update_pheromone(self, solution):\n",
        "      makespan = self.calculate_makespan(solution)\n",
        "      for job, machine in solution:\n",
        "          machine_index = next(i for i, (m, _) in enumerate(self.processing_times[job]) if m == machine)\n",
        "          self.pheromone[self.jobs.index(job), machine_index] += self.Q / makespan\n",
        "\n",
        "    def global_update_pheromone(self, solutions):\n",
        "        self.pheromone = (1 - self.evaporation_rate) * self.pheromone\n",
        "        for solution in solutions:\n",
        "            self.update_pheromone(solution)\n",
        "\n",
        "    def update_best_solution(self, solutions):\n",
        "        for solution in solutions:\n",
        "            makespan = self.calculate_makespan(solution)\n",
        "            if makespan < self.best_makespan:\n",
        "                self.best_makespan = makespan\n",
        "                self.best_solution = solution\n",
        "\n",
        "    def calculate_makespan(self, solution):\n",
        "      job_end_times = {}\n",
        "      machine_end_times = {machine: 0 for machine in self.machines}\n",
        "      for job, machine in solution:\n",
        "          processing_time = next(t for m, t in self.processing_times[job] if m == machine)\n",
        "          start_time = max(job_end_times.get(job, 0), machine_end_times[machine])\n",
        "          end_time = start_time + processing_time\n",
        "          job_end_times[job] = end_time\n",
        "          machine_end_times[machine] = end_time\n",
        "      return max(job_end_times.values())"
      ],
      "metadata": {
        "id": "5RaAv5z9SXZG"
      },
      "execution_count": null,
      "outputs": []
    },
    {
      "cell_type": "code",
      "source": [
        "# Example usage\n",
        "jobs = ['J1', 'J2', 'J3']\n",
        "machines = ['M1', 'M2', 'M3']\n",
        "processing_times = {\n",
        "    'J1': [('M3', 4), ('M2', 3), ('M1', 3)],\n",
        "    'J2': [('M2', 1), ('M3', 2), ('M1', 4)],\n",
        "    'J3': [('M2', 3), ('M1', 2), ('M3', 3)]\n",
        "}"
      ],
      "metadata": {
        "id": "rCQaaWLrSaC1"
      },
      "execution_count": null,
      "outputs": []
    },
    {
      "cell_type": "code",
      "source": [
        "num_ants = 30\n",
        "num_iterations = 1000\n",
        "alpha = 1\n",
        "beta = 2\n",
        "evaporation_rate = 0.5\n",
        "Q = 100\n",
        "\n",
        "aco = AntColonyOptimization(jobs, machines, processing_times, num_ants, num_iterations, alpha, beta, evaporation_rate, Q)\n",
        "aco.run()\n",
        "\n",
        "print(\"Best solution:\", aco.best_solution)\n",
        "print(\"Best makespan:\", aco.best_makespan)"
      ],
      "metadata": {
        "colab": {
          "base_uri": "https://localhost:8080/"
        },
        "id": "ulyykJUzSclM",
        "outputId": "254fd593-d391-4e3c-8407-402f35117065"
      },
      "execution_count": null,
      "outputs": [
        {
          "output_type": "stream",
          "name": "stdout",
          "text": [
            "Best solution: [('J1', 'M3'), ('J1', 'M2'), ('J1', 'M1'), ('J2', 'M2'), ('J2', 'M3'), ('J2', 'M1'), ('J3', 'M2'), ('J3', 'M1'), ('J3', 'M3')]\n",
            "Best makespan: 19\n"
          ]
        }
      ]
    }
  ]
}