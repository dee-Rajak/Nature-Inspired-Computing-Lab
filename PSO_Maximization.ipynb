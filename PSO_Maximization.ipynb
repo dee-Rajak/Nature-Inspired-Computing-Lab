{
  "nbformat": 4,
  "nbformat_minor": 0,
  "metadata": {
    "colab": {
      "provenance": []
    },
    "kernelspec": {
      "name": "python3",
      "display_name": "Python 3"
    },
    "language_info": {
      "name": "python"
    }
  },
  "cells": [
    {
      "cell_type": "code",
      "execution_count": null,
      "metadata": {
        "id": "YgvToOftl_KX"
      },
      "outputs": [],
      "source": [
        "import random\n",
        "import numpy as np\n",
        "\n",
        "# Objective function\n",
        "def objective_function(params):\n",
        "    a1, a2, a3, a4, a5 = params\n",
        "    return 1 + 2*a1 + (3*a2 - 1) + 3*a3 + 2*(a4**2) + (5*a5 + 2)"
      ]
    },
    {
      "cell_type": "code",
      "source": [
        "# Initialize PSO parameters\n",
        "n_particles = 20\n",
        "w_max = 0.9\n",
        "w_min = 0.3\n",
        "c1 = 2.0\n",
        "c2 = 2.0\n",
        "max_iterations = 100"
      ],
      "metadata": {
        "id": "vr672UVHmR_6"
      },
      "execution_count": null,
      "outputs": []
    },
    {
      "cell_type": "code",
      "source": [
        "# Define the search space\n",
        "bounds = [(10, 60), (15, 30), (25, 75), (10, 30), (10, 50)]"
      ],
      "metadata": {
        "id": "vqPwcLP8mQau"
      },
      "execution_count": null,
      "outputs": []
    },
    {
      "cell_type": "code",
      "source": [
        "# Initialize particles\n",
        "particles = []\n",
        "velocities = []\n",
        "best_positions = []\n",
        "best_scores = []"
      ],
      "metadata": {
        "id": "9BSRIgGxmOPj"
      },
      "execution_count": null,
      "outputs": []
    },
    {
      "cell_type": "code",
      "source": [
        "for _ in range(n_particles):\n",
        "    particle = [random.uniform(bound[0], bound[1]) for bound in bounds]\n",
        "    velocity = [random.uniform(-1, 1) for _ in range(len(bounds))]\n",
        "    particles.append(particle)\n",
        "    velocities.append(velocity)\n",
        "    best_positions.append(particle)\n",
        "    best_scores.append(objective_function(particle))"
      ],
      "metadata": {
        "id": "oksxdEqmmM61"
      },
      "execution_count": null,
      "outputs": []
    },
    {
      "cell_type": "code",
      "source": [
        "# Initialize global best position and score\n",
        "global_best_position = particles[np.argmax(best_scores)]\n",
        "global_best_score = max(best_scores)"
      ],
      "metadata": {
        "id": "GKwD4y1ZmLV4"
      },
      "execution_count": null,
      "outputs": []
    },
    {
      "cell_type": "code",
      "source": [
        "# Run PSO iterations\n",
        "for iteration in range(max_iterations):\n",
        "    # Update inertia weight\n",
        "    w = w_max - (w_max - w_min) * (iteration / max_iterations)\n",
        "\n",
        "    for i in range(n_particles):\n",
        "        # Update velocities\n",
        "        r1 = random.random()\n",
        "        r2 = random.random()\n",
        "        velocities[i] = (\n",
        "            w * np.array(velocities[i]) +\n",
        "            c1 * r1 * (np.array(best_positions[i]) - np.array(particles[i])) +\n",
        "            c2 * r2 * (np.array(global_best_position) - np.array(particles[i]))\n",
        "        )\n",
        "\n",
        "        # Update positions\n",
        "        particles[i] = np.array(particles[i]) + velocities[i]\n",
        "\n",
        "        # Apply bounds\n",
        "        particles[i] = [max(min(x, bound[1]), bound[0]) for x, bound in zip(particles[i], bounds)]\n",
        "\n",
        "        # Update personal best\n",
        "        score = objective_function(particles[i])\n",
        "        if score > best_scores[i]:\n",
        "            best_positions[i] = particles[i]\n",
        "            best_scores[i] = score\n",
        "\n",
        "    # Update global best\n",
        "    if max(best_scores) > global_best_score:\n",
        "        global_best_score = max(best_scores)\n",
        "        global_best_position = best_positions[best_scores.index(global_best_score)]"
      ],
      "metadata": {
        "id": "rhLDCsXMmJ2L"
      },
      "execution_count": null,
      "outputs": []
    },
    {
      "cell_type": "code",
      "source": [
        "# Print the optimal solution\n",
        "print(\"Optimal solution:\")\n",
        "print(\"a1 =\", global_best_position[0])\n",
        "print(\"a2 =\", global_best_position[1])\n",
        "print(\"a3 =\", global_best_position[2])\n",
        "print(\"a4 =\", global_best_position[3])\n",
        "print(\"a5 =\", global_best_position[4])\n",
        "print(\"Objective function value =\", global_best_score)"
      ],
      "metadata": {
        "colab": {
          "base_uri": "https://localhost:8080/"
        },
        "id": "NVV58MZFmGTK",
        "outputId": "b714ac7b-70ef-4d97-8fcc-42022b2cd4d9"
      },
      "execution_count": null,
      "outputs": [
        {
          "output_type": "stream",
          "name": "stdout",
          "text": [
            "Optimal solution:\n",
            "a1 = 60\n",
            "a2 = 30\n",
            "a3 = 75\n",
            "a4 = 30\n",
            "a5 = 50\n",
            "Objective function value = 2487\n"
          ]
        }
      ]
    },
    {
      "cell_type": "markdown",
      "source": [
        "Another Approach"
      ],
      "metadata": {
        "id": "Ph7BygCEmnaK"
      }
    },
    {
      "cell_type": "code",
      "source": [
        "import numpy as np\n",
        "import random"
      ],
      "metadata": {
        "id": "1uL01EozmvnR"
      },
      "execution_count": null,
      "outputs": []
    },
    {
      "cell_type": "code",
      "source": [
        "def objective_function(x):\n",
        "    \"\"\"Calculates the value of the objective function\"\"\"\n",
        "    a1, a2, a3, a4, a5 = x\n",
        "    value = 1 + 2*a1 + (3*a2-1) + 3*a3 + 2*(a4**2) + (5*a5+2)\n",
        "    return value"
      ],
      "metadata": {
        "id": "jVsZKiVXmzJC"
      },
      "execution_count": null,
      "outputs": []
    },
    {
      "cell_type": "code",
      "source": [
        "class Particle:\n",
        "    def __init__(self, dimension, bounds):\n",
        "        \"\"\"\n",
        "        Initializes a particle\n",
        "        :param dimension: Number of dimensions of the problem\n",
        "        :param bounds: List of tuples, each tuple representing bounds for a dimension [(lower, upper)]\n",
        "        \"\"\"\n",
        "        self.dimension = dimension\n",
        "        self.bounds = bounds\n",
        "\n",
        "        self.position = np.array([random.uniform(*bounds[i]) for i in range(dimension)])\n",
        "        self.velocity = np.array([0.0 for _ in range(dimension)])\n",
        "\n",
        "        self.pbest_position = self.position.copy()\n",
        "        self.pbest_value = float('-inf')  # For maximization\n",
        "\n",
        "    def update_velocity(self, gbest_position, w, c1, c2):\n",
        "        \"\"\"\n",
        "        Updates particle velocity based on PSO update rule\n",
        "        :param gbest_position: Global best position\n",
        "        :param w: Inertia weight\n",
        "        :param c1: Cognitive coefficient\n",
        "        :param c2: Social coefficient\n",
        "        \"\"\"\n",
        "        r1 = random.random()\n",
        "        r2 = random.random()\n",
        "\n",
        "        cognitive = c1 * r1 * (self.pbest_position - self.position)\n",
        "        social = c2 * r2 * (gbest_position - self.position)\n",
        "        self.velocity = w * self.velocity + cognitive + social\n",
        "\n",
        "    def update_position(self):\n",
        "        \"\"\"Updates particle position based on velocity\"\"\"\n",
        "        self.position += self.velocity\n",
        "\n",
        "        # Enforce bounds\n",
        "        for i in range(self.dimension):\n",
        "            self.position[i] = np.clip(self.position[i], self.bounds[i][0], self.bounds[i][1])\n",
        "\n",
        "    def evaluate(self):\n",
        "        \"\"\"Calculates the particle's fitness and updates personal best (pbest)\"\"\"\n",
        "        self.fitness = objective_function(self.position)\n",
        "        if self.fitness > self.pbest_value:\n",
        "            self.pbest_value = self.fitness\n",
        "            self.pbest_position = self.position.copy()"
      ],
      "metadata": {
        "id": "kgV_aKO2m0_0"
      },
      "execution_count": null,
      "outputs": []
    },
    {
      "cell_type": "code",
      "source": [
        "def PSO(objective_function, bounds, n_particles, iterations, w_max, w_min, c1, c2):\n",
        "    \"\"\" Implements PSO algorithm \"\"\"\n",
        "\n",
        "    dimension = len(bounds)\n",
        "    particles = [Particle(dimension, bounds) for _ in range(n_particles)]\n",
        "\n",
        "    gbest_value = float('-inf')  # For maximization\n",
        "    gbest_position = np.zeros(dimension)\n",
        "\n",
        "    for _ in range(iterations):\n",
        "        # Update global best\n",
        "        for particle in particles:\n",
        "            particle.evaluate()\n",
        "            if particle.pbest_value > gbest_value:\n",
        "                gbest_value = particle.pbest_value\n",
        "                gbest_position = particle.pbest_position.copy()\n",
        "\n",
        "        # Update particles\n",
        "        w = w_max - (_ / iterations) * (w_max - w_min)  # Linear inertia update\n",
        "        for particle in particles:\n",
        "            particle.update_velocity(gbest_position, w, c1, c2)\n",
        "            particle.update_position()\n",
        "\n",
        "    return gbest_position, gbest_value"
      ],
      "metadata": {
        "id": "VhjXGVX8m3am"
      },
      "execution_count": null,
      "outputs": []
    },
    {
      "cell_type": "code",
      "source": [
        "# Parameters\n",
        "n_particles = 20\n",
        "iterations = 100\n",
        "w_max = 0.9\n",
        "w_min = 0.3\n",
        "c1 = 2\n",
        "c2 = 2\n",
        "\n",
        "bounds = [(10, 60), (15, 30), (25, 75), (10, 30), (10, 50)]\n",
        "\n",
        "# Solve the optimization problem\n",
        "best_position, best_value = PSO(objective_function, bounds, n_particles, iterations, w_max, w_min, c1, c2)\n",
        "\n",
        "print(\"Optimal Solution:\", best_position)\n",
        "print(\"Maximum Value:\", best_value)"
      ],
      "metadata": {
        "colab": {
          "base_uri": "https://localhost:8080/"
        },
        "id": "zV25boPbm6Gw",
        "outputId": "55b8ef39-8fad-423b-97b0-cb4aff1ab09b"
      },
      "execution_count": null,
      "outputs": [
        {
          "output_type": "stream",
          "name": "stdout",
          "text": [
            "Optimal Solution: [60. 30. 75. 30. 50.]\n",
            "Maximum Value: 2487.0\n"
          ]
        }
      ]
    }
  ]
}