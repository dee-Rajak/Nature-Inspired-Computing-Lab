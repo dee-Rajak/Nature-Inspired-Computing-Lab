{
  "nbformat": 4,
  "nbformat_minor": 0,
  "metadata": {
    "colab": {
      "provenance": []
    },
    "kernelspec": {
      "name": "python3",
      "display_name": "Python 3"
    },
    "language_info": {
      "name": "python"
    }
  },
  "cells": [
    {
      "cell_type": "code",
      "execution_count": null,
      "metadata": {
        "id": "wZ2k_C81ArlO"
      },
      "outputs": [],
      "source": [
        "import random"
      ]
    },
    {
      "cell_type": "code",
      "source": [
        "def random_chromosome(size): #making random chromosomes\n",
        "    return [ random.randint(1, size) for _ in range(size) ]"
      ],
      "metadata": {
        "id": "heHbhSHlDM9X"
      },
      "execution_count": null,
      "outputs": []
    },
    {
      "cell_type": "code",
      "source": [
        "def fitness(chromosome):\n",
        "    horizontal_collisions = sum([chromosome.count(queen)-1 for queen in chromosome])/2\n",
        "    diagonal_collisions = 0\n",
        "\n",
        "    n = len(chromosome)\n",
        "    left_diagonal = [0] * (2*n)\n",
        "    right_diagonal = [0] * (2*n)\n",
        "    for i in range(n):\n",
        "        left_diagonal[i + chromosome[i] - 1] += 1\n",
        "        right_diagonal[len(chromosome) - i + chromosome[i] - 2] += 1\n",
        "\n",
        "    diagonal_collisions = 0\n",
        "    for i in range(2*n-1):\n",
        "        counter = 0\n",
        "        if left_diagonal[i] > 1:\n",
        "            counter += left_diagonal[i]-1\n",
        "        if right_diagonal[i] > 1:\n",
        "            counter += right_diagonal[i]-1\n",
        "        diagonal_collisions += counter / (n-abs(i-n+1))\n",
        "\n",
        "    return int(max_fitness - (horizontal_collisions + diagonal_collisions)) #28-(2+3)=23"
      ],
      "metadata": {
        "id": "Dm6Myi57DNJv"
      },
      "execution_count": null,
      "outputs": []
    },
    {
      "cell_type": "code",
      "source": [
        "def probability(chromosome, fitness):\n",
        "    return fitness(chromosome) / max_fitness"
      ],
      "metadata": {
        "id": "vSEBov4MDNU3"
      },
      "execution_count": null,
      "outputs": []
    },
    {
      "cell_type": "code",
      "source": [
        "def random_pick(population, probabilities):\n",
        "    population_with_probability = zip(population, probabilities)\n",
        "    total = sum(w for c, w in population_with_probability)\n",
        "    r = random.uniform(0, total)\n",
        "    upto = 0\n",
        "    for c, w in zip(population, probabilities):\n",
        "        if upto + w >= r:\n",
        "            return c\n",
        "        upto += w\n",
        "    assert False, \"Shouldn't get here\""
      ],
      "metadata": {
        "id": "zpqVZTAgDUkn"
      },
      "execution_count": null,
      "outputs": []
    },
    {
      "cell_type": "code",
      "source": [
        "def reproduce(x, y): #doing cross-over between two chromosomes\n",
        "    n = len(x)\n",
        "    c1 = random.randint(0, n - 2)\n",
        "    c2 = random.randint(c1 + 1, n - 1)  # ensure c2 >= c1\n",
        "    return x[:c1] + y[c1:c2] + x[c2:], y[:c1] + x[c1:c2] + y[c2:]"
      ],
      "metadata": {
        "id": "77POvd_iDVWX"
      },
      "execution_count": null,
      "outputs": []
    },
    {
      "cell_type": "code",
      "source": [
        "def mutate(x):  #randomly changing the value of a random index of a chromosome\n",
        "    global conversion_count\n",
        "    n = len(x)\n",
        "    c = random.randint(0, n - 1)\n",
        "    m = random.randint(1, n)\n",
        "    x[c] = m\n",
        "    conversion_count += 1\n",
        "    return x"
      ],
      "metadata": {
        "id": "bdThZNv6DVZA"
      },
      "execution_count": null,
      "outputs": []
    },
    {
      "cell_type": "code",
      "source": [
        "def genetic_queen(population, fitness):\n",
        "    mutation_probability = 0.03\n",
        "    new_population = []\n",
        "    probabilities = [probability(n, fitness) for n in population]\n",
        "    for i in range(len(population)):\n",
        "        x = random_pick(population, probabilities) #best chromosome 1\n",
        "        y = random_pick(population, probabilities) #best chromosome 2\n",
        "        child1, child2 = reproduce(x, y) #creating two new chromosomes from the best 2 chromosomes\n",
        "        if random.random() < mutation_probability:\n",
        "            child1 = mutate(child1)\n",
        "            child2 = mutate(child2)\n",
        "        new_population.extend([child1, child2])\n",
        "        if fitness(child1) == max_fitness or fitness(child2) == max_fitness: break\n",
        "    return new_population"
      ],
      "metadata": {
        "id": "WISKdsJNDaGX"
      },
      "execution_count": null,
      "outputs": []
    },
    {
      "cell_type": "code",
      "source": [
        "def print_chromosome(chrom):\n",
        "    print(\"Chromosome = {},  Fitness = {}\"\n",
        "        .format(str(chrom), fitness(chrom)))"
      ],
      "metadata": {
        "id": "aSocNqIRDaKA"
      },
      "execution_count": null,
      "outputs": []
    },
    {
      "cell_type": "code",
      "source": [
        "if __name__ == \"__main__\":\n",
        "    nq = int(input(\"Enter Number of Queens: \")) #say N = 8\n",
        "    max_fitness = (nq*(nq-1))/2  # 8*7/2 = 28\n",
        "    population = [random_chromosome(nq) for _ in range(100)]\n",
        "    iteration_count = 0\n",
        "    conversion_count = 0\n",
        "    generation = 1\n",
        "\n",
        "    while not max_fitness in [fitness(chrom) for chrom in population]:\n",
        "        print(\"=== Generation {} ===\".format(generation))\n",
        "        population = genetic_queen(population, fitness)\n",
        "        print(\"\")\n",
        "        print(\"Maximum Fitness = {}\".format(max([fitness(n) for n in population])))\n",
        "        generation += 1\n",
        "        iteration_count += 1\n",
        "\n",
        "    chrom_out = []\n",
        "    print(\"Solved in Generation {}!\".format(generation-1))\n",
        "    for chrom in population:\n",
        "        if fitness(chrom) == max_fitness:\n",
        "            print(\"\")\n",
        "            print(\"One of the solutions: \")\n",
        "            chrom_out = chrom\n",
        "            print_chromosome(chrom)\n",
        "\n",
        "    board = []\n",
        "\n",
        "    for x in range(nq):\n",
        "        board.append([\"x\"] * nq)\n",
        "\n",
        "    for i in range(nq):\n",
        "        board[nq-chrom_out[i]][i]=\"Q\"\n",
        "\n",
        "\n",
        "    def print_board(board):\n",
        "        for row in board:\n",
        "            print (\" \".join(row))\n",
        "\n",
        "    print()\n",
        "    print_board(board)\n",
        "    print(\"Number of iterations:\", iteration_count)\n",
        "    print(\"Number of conversions:\", conversion_count)"
      ],
      "metadata": {
        "colab": {
          "base_uri": "https://localhost:8080/"
        },
        "id": "ZQn9i5E-B18m",
        "outputId": "9553bea2-4546-43f0-8bad-e14f187d2b3b"
      },
      "execution_count": null,
      "outputs": [
        {
          "output_type": "stream",
          "name": "stdout",
          "text": [
            "Enter Number of Queens: 7\n",
            "=== Generation 1 ===\n",
            "\n",
            "Maximum Fitness = 19\n",
            "=== Generation 2 ===\n",
            "\n",
            "Maximum Fitness = 20\n",
            "=== Generation 3 ===\n",
            "\n",
            "Maximum Fitness = 20\n",
            "=== Generation 4 ===\n",
            "\n",
            "Maximum Fitness = 20\n",
            "=== Generation 5 ===\n",
            "\n",
            "Maximum Fitness = 20\n",
            "=== Generation 6 ===\n",
            "\n",
            "Maximum Fitness = 20\n",
            "=== Generation 7 ===\n",
            "\n",
            "Maximum Fitness = 21\n",
            "Solved in Generation 7!\n",
            "\n",
            "One of the solutions: \n",
            "Chromosome = [7, 2, 4, 6, 1, 3, 5],  Fitness = 21\n",
            "\n",
            "Q x x x x x x\n",
            "x x x Q x x x\n",
            "x x x x x x Q\n",
            "x x Q x x x x\n",
            "x x x x x Q x\n",
            "x Q x x x x x\n",
            "x x x x Q x x\n",
            "Number of iterations: 7\n",
            "Number of conversions: 530\n"
          ]
        }
      ]
    }
  ]
}